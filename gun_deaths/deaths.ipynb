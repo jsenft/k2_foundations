{
 "cells": [
  {
   "cell_type": "markdown",
   "metadata": {},
   "source": [
    "## US Gun Deaths Data Set\n",
    "\n",
    "[Original article by FiveThirtyEight about Guns](http://fivethirtyeight.com/features/gun-deaths/)\n",
    "\n",
    "The data set contains cleaned gun-death data from the CDC for 2012-2014."
   ]
  },
  {
   "cell_type": "markdown",
   "metadata": {},
   "source": [
    "### Assignment\n",
    "\n",
    "- Import the csv\n",
    "- Read it into a list\n",
    "- Preview the first 5 entries"
   ]
  },
  {
   "cell_type": "code",
   "execution_count": 1,
   "metadata": {},
   "outputs": [
    {
     "data": {
      "text/plain": [
       "[['',\n",
       "  'year',\n",
       "  'month',\n",
       "  'intent',\n",
       "  'police',\n",
       "  'sex',\n",
       "  'age',\n",
       "  'race',\n",
       "  'hispanic',\n",
       "  'place',\n",
       "  'education'],\n",
       " [1, 2012, 1, 'Suicide', 0, 'M', 34, 'Asian/Pacific Islander', 100, 'Home', 4],\n",
       " [2, 2012, 1, 'Suicide', 0, 'F', 21, 'White', 100, 'Street', 3],\n",
       " [3, 2012, 1, 'Suicide', 0, 'M', 60, 'White', 100, 'Other specified', 4],\n",
       " [4, 2012, 2, 'Suicide', 0, 'M', 64, 'White', 100, 'Home', 4]]"
      ]
     },
     "execution_count": 1,
     "metadata": {},
     "output_type": "execute_result"
    }
   ],
   "source": [
    "import csv\n",
    "\n",
    "def csv2list(file):\n",
    "    list_of_lists = []\n",
    "    with open(file) as f:\n",
    "        csv_data = csv.reader(f)\n",
    "        for row in csv_data:\n",
    "            for i in range(len(row)):\n",
    "                if row[i].isdigit():\n",
    "                    row[i] = int(row[i])\n",
    "            list_of_lists.append(row)   \n",
    "    \n",
    "    return list_of_lists\n",
    "\n",
    "lol = csv2list(\"guns.csv\")\n",
    "lol[:5]"
   ]
  },
  {
   "cell_type": "markdown",
   "metadata": {},
   "source": [
    "### Assignment\n",
    "\n",
    "- Remove the header row from the list of lists\n",
    "- Save it to a separate list"
   ]
  },
  {
   "cell_type": "code",
   "execution_count": 2,
   "metadata": {},
   "outputs": [
    {
     "data": {
      "text/plain": [
       "['',\n",
       " 'year',\n",
       " 'month',\n",
       " 'intent',\n",
       " 'police',\n",
       " 'sex',\n",
       " 'age',\n",
       " 'race',\n",
       " 'hispanic',\n",
       " 'place',\n",
       " 'education']"
      ]
     },
     "execution_count": 2,
     "metadata": {},
     "output_type": "execute_result"
    }
   ],
   "source": [
    "header_list = lol[0]\n",
    "header_list"
   ]
  },
  {
   "cell_type": "code",
   "execution_count": 3,
   "metadata": {},
   "outputs": [
    {
     "data": {
      "text/plain": [
       "[[1, 2012, 1, 'Suicide', 0, 'M', 34, 'Asian/Pacific Islander', 100, 'Home', 4],\n",
       " [2, 2012, 1, 'Suicide', 0, 'F', 21, 'White', 100, 'Street', 3],\n",
       " [3, 2012, 1, 'Suicide', 0, 'M', 60, 'White', 100, 'Other specified', 4],\n",
       " [4, 2012, 2, 'Suicide', 0, 'M', 64, 'White', 100, 'Home', 4],\n",
       " [5, 2012, 2, 'Suicide', 0, 'M', 31, 'White', 100, 'Other specified', 2]]"
      ]
     },
     "execution_count": 3,
     "metadata": {},
     "output_type": "execute_result"
    }
   ],
   "source": [
    "del lol[0]\n",
    "lol[:5]"
   ]
  },
  {
   "cell_type": "markdown",
   "metadata": {},
   "source": [
    "### Assignment\n",
    "\n",
    "- Count the number of gun deaths by year\n",
    "    - It may help to do a list comprehension to get the years\n",
    "    - Iterate over the years with a dictionary to keep count\n",
    "    \n",
    "    "
   ]
  },
  {
   "cell_type": "code",
   "execution_count": 4,
   "metadata": {},
   "outputs": [
    {
     "data": {
      "text/plain": [
       "{2012: 33563, 2013: 33636, 2014: 33599}"
      ]
     },
     "execution_count": 4,
     "metadata": {},
     "output_type": "execute_result"
    }
   ],
   "source": [
    "year_list = set([x[1] for x in lol])\n",
    "deaths_by_year = {}\n",
    "\n",
    "for year in year_list:\n",
    "    deaths_by_year[year] = 0\n",
    "   \n",
    "for each in lol:\n",
    "    deaths_by_year[each[1]] += 1\n",
    "\n",
    "deaths_by_year"
   ]
  },
  {
   "cell_type": "markdown",
   "metadata": {},
   "source": [
    "### Assignment\n",
    "\n",
    "- Import the datetime library\n",
    "- Create a new list called \"dates\" with values from the data (set all the day values to 1)    \n",
    "- Count they number of gun deaths by month and year\n",
    "\n"
   ]
  },
  {
   "cell_type": "code",
   "execution_count": 57,
   "metadata": {},
   "outputs": [
    {
     "name": "stdout",
     "output_type": "stream",
     "text": [
      "2012-01-01 00:00:00\n"
     ]
    }
   ],
   "source": [
    "from datetime import datetime\n",
    "dates = []\n",
    "\n",
    "for each in lol:\n",
    "    dt = str(each[2]) + ' 01 ' + str(each[1])\n",
    "    dates.append(dt)\n",
    "\n",
    "dates = [datetime.strptime(x, \"%m %d %Y\") for x in dates]"
   ]
  },
  {
   "cell_type": "code",
   "execution_count": 62,
   "metadata": {},
   "outputs": [
    {
     "data": {
      "text/plain": [
       "{datetime.datetime(2012, 1, 1, 0, 0): 2758,\n",
       " datetime.datetime(2012, 2, 1, 0, 0): 2357,\n",
       " datetime.datetime(2012, 3, 1, 0, 0): 2743,\n",
       " datetime.datetime(2012, 4, 1, 0, 0): 2795,\n",
       " datetime.datetime(2012, 5, 1, 0, 0): 2999,\n",
       " datetime.datetime(2012, 6, 1, 0, 0): 2826,\n",
       " datetime.datetime(2012, 7, 1, 0, 0): 3026,\n",
       " datetime.datetime(2012, 8, 1, 0, 0): 2954,\n",
       " datetime.datetime(2012, 9, 1, 0, 0): 2852,\n",
       " datetime.datetime(2012, 10, 1, 0, 0): 2733,\n",
       " datetime.datetime(2012, 11, 1, 0, 0): 2729,\n",
       " datetime.datetime(2012, 12, 1, 0, 0): 2791,\n",
       " datetime.datetime(2013, 1, 1, 0, 0): 2864,\n",
       " datetime.datetime(2013, 2, 1, 0, 0): 2375,\n",
       " datetime.datetime(2013, 3, 1, 0, 0): 2862,\n",
       " datetime.datetime(2013, 4, 1, 0, 0): 2798,\n",
       " datetime.datetime(2013, 5, 1, 0, 0): 2806,\n",
       " datetime.datetime(2013, 6, 1, 0, 0): 2920,\n",
       " datetime.datetime(2013, 7, 1, 0, 0): 3079,\n",
       " datetime.datetime(2013, 8, 1, 0, 0): 2859,\n",
       " datetime.datetime(2013, 9, 1, 0, 0): 2742,\n",
       " datetime.datetime(2013, 10, 1, 0, 0): 2808,\n",
       " datetime.datetime(2013, 11, 1, 0, 0): 2758,\n",
       " datetime.datetime(2013, 12, 1, 0, 0): 2765,\n",
       " datetime.datetime(2014, 1, 1, 0, 0): 2651,\n",
       " datetime.datetime(2014, 2, 1, 0, 0): 2361,\n",
       " datetime.datetime(2014, 3, 1, 0, 0): 2684,\n",
       " datetime.datetime(2014, 4, 1, 0, 0): 2862,\n",
       " datetime.datetime(2014, 5, 1, 0, 0): 2864,\n",
       " datetime.datetime(2014, 6, 1, 0, 0): 2931,\n",
       " datetime.datetime(2014, 7, 1, 0, 0): 2884,\n",
       " datetime.datetime(2014, 8, 1, 0, 0): 2970,\n",
       " datetime.datetime(2014, 9, 1, 0, 0): 2914,\n",
       " datetime.datetime(2014, 10, 1, 0, 0): 2865,\n",
       " datetime.datetime(2014, 11, 1, 0, 0): 2756,\n",
       " datetime.datetime(2014, 12, 1, 0, 0): 2857}"
      ]
     },
     "execution_count": 62,
     "metadata": {},
     "output_type": "execute_result"
    }
   ],
   "source": [
    "date_counts = {}\n",
    "\n",
    "for date in dates:\n",
    "    if date not in date_counts:\n",
    "        date_counts[date] = 0\n",
    "    \n",
    "    date_counts[date] += 1   \n",
    "\n",
    "date_counts"
   ]
  },
  {
   "cell_type": "markdown",
   "metadata": {},
   "source": [
    "### Assignment\n",
    "\n",
    "- Find the number of gun deaths by Sex\n",
    "- Find the number of gun deaths by Race\n",
    "- How does this compare to the overall population in the US?"
   ]
  },
  {
   "cell_type": "code",
   "execution_count": 37,
   "metadata": {
    "collapsed": true
   },
   "outputs": [],
   "source": [
    "mapping = { \"Asian/Pacific Islander\": 15159516 + 674625, \n",
    "           \"Native American/Native Alaskan\": 3739506, \n",
    "           \"Black\": 40250635, \"Hispanic\": 44618105, \"White\": 197318956 }"
   ]
  },
  {
   "cell_type": "code",
   "execution_count": 40,
   "metadata": {},
   "outputs": [
    {
     "name": "stdout",
     "output_type": "stream",
     "text": [
      "{'M': 86349, 'F': 14449}\n",
      "{'Native American/Native Alaskan': 917, 'Black': 23296, 'White': 66237, 'Hispanic': 9022, 'Asian/Pacific Islander': 1326}\n",
      "Percentage of gun deaths by race of total population:\n",
      "Native American/Native Alaskan : 0.0003038825287836819\n",
      "Black : 0.007720008059481628\n",
      "White : 0.021950127654356312\n",
      "Hispanic : 0.002989779906964425\n",
      "Asian/Pacific Islander : 0.00043942010159995874\n"
     ]
    }
   ],
   "source": [
    "deaths_by_sex = {}\n",
    "deaths_by_sex['M'] = 0\n",
    "deaths_by_sex['F'] = 0\n",
    "   \n",
    "for each in lol:\n",
    "    deaths_by_sex[each[5]] += 1\n",
    "\n",
    "print(deaths_by_sex)\n",
    "\n",
    "deaths_by_race = {}\n",
    "race_list = set([x[7] for x in lol])\n",
    "\n",
    "for race in race_list:\n",
    "    deaths_by_race[race] = 0\n",
    "   \n",
    "for each in lol:\n",
    "    deaths_by_race[each[7]] += 1\n",
    "    \n",
    "print(deaths_by_race)\n",
    "\n",
    "total_pop = sum(mapping.values())\n",
    "\n",
    "print('Percentage of gun deaths by race of total population:')\n",
    "for z in deaths_by_race:\n",
    "    percent = deaths_by_race[z]*100/total_pop\n",
    "    print(z + ' : ' + str(percent))"
   ]
  },
  {
   "cell_type": "markdown",
   "metadata": {},
   "source": [
    "### Assignment\n",
    "\n",
    "- Reuse the data structure counting deaths by race\n",
    "- Use the dictionary below that has the actual population of each race\n",
    "- Compute the rates of gun deaths per race per 100,000 people\n",
    "\n",
    "mapping = {\n",
    "    \"Asian/Pacific Islander\": 15159516 + 674625,\n",
    "    \"Native American/Native Alaskan\": 3739506,\n",
    "    \"Black\": 40250635,\n",
    "    \"Hispanic\": 44618105,\n",
    "    \"White\": 197318956\n",
    "}"
   ]
  },
  {
   "cell_type": "code",
   "execution_count": 45,
   "metadata": {},
   "outputs": [
    {
     "name": "stdout",
     "output_type": "stream",
     "text": [
      "Gun deaths by race per 100,000 people:\n",
      "Native American/Native Alaskan : 0.3038825287836819\n",
      "Black : 7.7200080594816285\n",
      "White : 21.95012765435631\n",
      "Hispanic : 2.9897799069644253\n",
      "Asian/Pacific Islander : 0.43942010159995876\n"
     ]
    }
   ],
   "source": [
    "print('Gun deaths by race per 100,000 people:')\n",
    "for z in deaths_by_race:\n",
    "    num = deaths_by_race[z]*100000/total_pop\n",
    "    print(z + ' : ' + str(num))"
   ]
  },
  {
   "cell_type": "markdown",
   "metadata": {},
   "source": [
    "### Assignment\n",
    "\n",
    "You may not know this, but over half of all gun deaths are suicide.\n",
    "\n",
    "- Redo the computation of rates of gun deaths per race per 100,000 people\n",
    "- This time only count those that are \"Homicide\"\n",
    "- How are these different than the previous calculation?\n"
   ]
  },
  {
   "cell_type": "code",
   "execution_count": 47,
   "metadata": {},
   "outputs": [
    {
     "name": "stdout",
     "output_type": "stream",
     "text": [
      "Homicide gun deaths by race per 100,000 people:\n",
      "Native American/Native Alaskan : 0.10803239300270479\n",
      "Black : 6.465374194732425\n",
      "White : 3.0312033705390817\n",
      "Hispanic : 1.8670383502369288\n",
      "Asian/Pacific Islander : 0.18524572910586495\n"
     ]
    }
   ],
   "source": [
    "homicides = []\n",
    "for each in lol:\n",
    "    if each[3] == 'Homicide':\n",
    "        homicides.append(each)\n",
    "\n",
    "homicides_by_race = {}\n",
    "for race in race_list:\n",
    "    homicides_by_race[race] = 0\n",
    "   \n",
    "for each in homicides:\n",
    "    homicides_by_race[each[7]] += 1\n",
    "\n",
    "        \n",
    "print('Homicide gun deaths by race per 100,000 people:')\n",
    "for z in homicides_by_race:\n",
    "    num = homicides_by_race[z]*100000/total_pop\n",
    "    print(z + ' : ' + str(num))"
   ]
  },
  {
   "cell_type": "code",
   "execution_count": null,
   "metadata": {
    "collapsed": true
   },
   "outputs": [],
   "source": []
  }
 ],
 "metadata": {
  "anaconda-cloud": {},
  "kernelspec": {
   "display_name": "Python 3",
   "language": "python",
   "name": "python3"
  },
  "language_info": {
   "codemirror_mode": {
    "name": "ipython",
    "version": 3
   },
   "file_extension": ".py",
   "mimetype": "text/x-python",
   "name": "python",
   "nbconvert_exporter": "python",
   "pygments_lexer": "ipython3",
   "version": "3.6.2"
  }
 },
 "nbformat": 4,
 "nbformat_minor": 1
}
